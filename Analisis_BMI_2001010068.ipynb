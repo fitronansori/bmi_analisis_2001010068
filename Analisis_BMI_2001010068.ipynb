{
  "nbformat": 4,
  "nbformat_minor": 0,
  "metadata": {
    "colab": {
      "name": "Analisis BMI 2001010068.ipynb",
      "provenance": [],
      "authorship_tag": "ABX9TyOaQAsH14u4ncjxegIQxQjj",
      "include_colab_link": true
    },
    "kernelspec": {
      "name": "python3",
      "display_name": "Python 3"
    },
    "language_info": {
      "name": "python"
    }
  },
  "cells": [
    {
      "cell_type": "markdown",
      "metadata": {
        "id": "view-in-github",
        "colab_type": "text"
      },
      "source": [
        "<a href=\"https://colab.research.google.com/github/fitronansori/bmi_analisis_2001010068/blob/main/Analisis_BMI_2001010068.ipynb\" target=\"_parent\"><img src=\"https://colab.research.google.com/assets/colab-badge.svg\" alt=\"Open In Colab\"/></a>"
      ]
    },
    {
      "cell_type": "code",
      "execution_count": 4,
      "metadata": {
        "colab": {
          "base_uri": "https://localhost:8080/"
        },
        "id": "ldcIpQKjrqP9",
        "outputId": "fa60256e-669b-4f7b-d511-f25110378867"
      },
      "outputs": [
        {
          "output_type": "stream",
          "name": "stdout",
          "text": [
            "Drive already mounted at /content/drive; to attempt to forcibly remount, call drive.mount(\"/content/drive\", force_remount=True).\n"
          ]
        }
      ],
      "source": [
        "#CONNECT TO GOOGLE DRIVE\n",
        "from google.colab import drive\n",
        "drive.mount ('/content/drive')"
      ]
    },
    {
      "cell_type": "code",
      "source": [
        "# Import library\n",
        "\n",
        "import matplotlib.pyplot as plt\n",
        "import numpy as np\n",
        "import pandas as pd"
      ],
      "metadata": {
        "id": "RpqFW3gbsIeE"
      },
      "execution_count": 22,
      "outputs": []
    },
    {
      "cell_type": "code",
      "source": [
        "# Import data\n",
        "df= pd.read_csv(\"/content/drive/My Drive/Data/bmi.csv\")\n",
        "print(df.sample(frac=0.1)) # ini hanya akan mencetak 10% dari total data yaitu: 10% dari df"
      ],
      "metadata": {
        "colab": {
          "base_uri": "https://localhost:8080/"
        },
        "id": "K7X4Nd-ZsQNN",
        "outputId": "1670b321-01e4-46a9-9f50-f73568728bcb"
      },
      "execution_count": 23,
      "outputs": [
        {
          "output_type": "stream",
          "name": "stdout",
          "text": [
            "     Gender  Height  Weight  Index\n",
            "433    Male     179     127      4\n",
            "496  Female     184     121      4\n",
            "408  Female     146     123      5\n",
            "230  Female     186     137      4\n",
            "395  Female     164      71      3\n",
            "416  Female     152     114      5\n",
            "40   Female     175     120      4\n",
            "379    Male     176      87      3\n",
            "76     Male     165     104      4\n",
            "337  Female     164     126      5\n",
            "134  Female     171     155      5\n",
            "475    Male     183     131      4\n",
            "177  Female     181      94      3\n",
            "323    Male     187     140      5\n",
            "269    Male     168      50      1\n",
            "105    Male     195     126      4\n",
            "119  Female     176     156      5\n",
            "441    Male     182      73      2\n",
            "480  Female     155     115      5\n",
            "375  Female     150     144      5\n",
            "338  Female     189     125      4\n",
            "344    Male     170     115      4\n",
            "13     Male     155      51      2\n",
            "74   Female     185     100      3\n",
            "325  Female     148      54      2\n",
            "178  Female     166     126      5\n",
            "448  Female     146     101      5\n",
            "175  Female     185     119      4\n",
            "485    Male     173     111      4\n",
            "374    Male     174      95      4\n",
            "212  Female     153     146      5\n",
            "117  Female     146     104      5\n",
            "311  Female     180     156      5\n",
            "439  Female     166     153      5\n",
            "336  Female     167     153      5\n",
            "350    Male     184      83      2\n",
            "272  Female     187     121      4\n",
            "174    Male     197     149      4\n",
            "248  Female     188      90      3\n",
            "352  Female     160      51      2\n",
            "361    Male     161     103      4\n",
            "3    Female     195     104      3\n",
            "282  Female     147      94      5\n",
            "420  Female     195      61      1\n",
            "435    Male     168     158      5\n",
            "113  Female     192      90      2\n",
            "12   Female     192     101      3\n",
            "293  Female     165      83      4\n",
            "190    Male     141      85      5\n",
            "388  Female     157      66      3\n"
          ]
        }
      ]
    },
    {
      "cell_type": "code",
      "source": [
        "# Mengubah kolom Gender menjadi nilai biner \n",
        "df=pd.get_dummies(df)\n",
        "print(df)"
      ],
      "metadata": {
        "colab": {
          "base_uri": "https://localhost:8080/"
        },
        "id": "FL6CXNOds_AO",
        "outputId": "fb00baff-5ade-4b85-e9b6-0fa28afe5f9b"
      },
      "execution_count": 24,
      "outputs": [
        {
          "output_type": "stream",
          "name": "stdout",
          "text": [
            "     Height  Weight  Index  Gender_Female  Gender_Male\n",
            "0       174      96      4              0            1\n",
            "1       189      87      2              0            1\n",
            "2       185     110      4              1            0\n",
            "3       195     104      3              1            0\n",
            "4       149      61      3              0            1\n",
            "..      ...     ...    ...            ...          ...\n",
            "495     150     153      5              1            0\n",
            "496     184     121      4              1            0\n",
            "497     141     136      5              1            0\n",
            "498     150      95      5              0            1\n",
            "499     173     131      5              0            1\n",
            "\n",
            "[500 rows x 5 columns]\n"
          ]
        }
      ]
    },
    {
      "cell_type": "code",
      "source": [
        "X=df.iloc[:,[0,1,3,4]].values\n",
        "Y=df.iloc[:,2].values"
      ],
      "metadata": {
        "id": "fFJtzu-5tG3O"
      },
      "execution_count": 8,
      "outputs": []
    },
    {
      "cell_type": "code",
      "source": [
        "X_nu=df[[\"Height\",\"Weight\",\"Index\"]]\n",
        "\n",
        "X_nu.corr()\n",
        "\n",
        "X_nu.hist(bins=50)"
      ],
      "metadata": {
        "colab": {
          "base_uri": "https://localhost:8080/",
          "height": 368
        },
        "id": "UTNMNQKQtOAp",
        "outputId": "b683a7e1-66b4-4665-80e9-f6fb92e35b26"
      },
      "execution_count": 9,
      "outputs": [
        {
          "output_type": "execute_result",
          "data": {
            "text/plain": [
              "array([[<matplotlib.axes._subplots.AxesSubplot object at 0x7efd95ae7190>,\n",
              "        <matplotlib.axes._subplots.AxesSubplot object at 0x7efd916893d0>],\n",
              "       [<matplotlib.axes._subplots.AxesSubplot object at 0x7efd98fa41d0>,\n",
              "        <matplotlib.axes._subplots.AxesSubplot object at 0x7efd916008d0>]],\n",
              "      dtype=object)"
            ]
          },
          "metadata": {},
          "execution_count": 9
        },
        {
          "output_type": "display_data",
          "data": {
            "image/png": "[encoded data removed]",
            "text/plain": [
              "<Figure size 432x288 with 4 Axes>"
            ]
          },
          "metadata": {
            "needs_background": "light"
          }
        }
      ]
    },
    {
      "cell_type": "code",
      "source": [
        "plt.scatter(X_nu.Index,Y,color=\"g\")\n",
        "plt.grid()"
      ],
      "metadata": {
        "colab": {
          "base_uri": "https://localhost:8080/",
          "height": 265
        },
        "id": "gIsjc-RxtR6K",
        "outputId": "190ab44f-72ed-4fa1-d900-c3db6879671c"
      },
      "execution_count": 10,
      "outputs": [
        {
          "output_type": "display_data",
          "data": {
            "image/png": "[encoded data removed]",
            "text/plain": [
              "<Figure size 432x288 with 1 Axes>"
            ]
          },
          "metadata": {
            "needs_background": "light"
          }
        }
      ]
    },
    {
      "cell_type": "code",
      "source": [
        "plt.scatter(X_nu.Weight,Y,color=\"r\")\n",
        "plt.grid()"
      ],
      "metadata": {
        "colab": {
          "base_uri": "https://localhost:8080/",
          "height": 265
        },
        "id": "hX_tqckHtWKz",
        "outputId": "b6e1bda1-5e46-44ab-c854-d61ce7024a60"
      },
      "execution_count": 11,
      "outputs": [
        {
          "output_type": "display_data",
          "data": {
            "image/png": "[encoded data removed]",
            "text/plain": [
              "<Figure size 432x288 with 1 Axes>"
            ]
          },
          "metadata": {
            "needs_background": "light"
          }
        }
      ]
    },
    {
      "cell_type": "code",
      "source": [
        "plt.scatter(X_nu.Height,Y,color=\"teal\")\n",
        "plt.grid()"
      ],
      "metadata": {
        "colab": {
          "base_uri": "https://localhost:8080/",
          "height": 265
        },
        "id": "fkm2gRJ1tZ74",
        "outputId": "e29f59fc-242d-4617-9151-d2eed0b853fd"
      },
      "execution_count": 12,
      "outputs": [
        {
          "output_type": "display_data",
          "data": {
            "image/png": "[encoded data removed]",
            "text/plain": [
              "<Figure size 432x288 with 1 Axes>"
            ]
          },
          "metadata": {
            "needs_background": "light"
          }
        }
      ]
    },
    {
      "cell_type": "code",
      "source": [
        "# Memisahkan set data untuk melatih dan menguji set\n",
        "X_train=X[:400]\n",
        "X_test=X[400:]\n",
        "\n",
        "Y_train=Y[:400]\n",
        "Y_test=Y[400:]"
      ],
      "metadata": {
        "id": "4y9xWCX-teks"
      },
      "execution_count": 13,
      "outputs": []
    },
    {
      "cell_type": "code",
      "source": [
        "from sklearn.linear_model import LinearRegression\n",
        "teacher=LinearRegression()\n",
        "learner=teacher.fit(X_train,Y_train)"
      ],
      "metadata": {
        "id": "6wMN52GNtiEn"
      },
      "execution_count": 14,
      "outputs": []
    },
    {
      "cell_type": "code",
      "source": [
        "# Membuat Prediksi\n",
        "\n",
        "Yp=learner.predict(X_test)\n",
        "c=learner.intercept_\n",
        "m=learner.coef_\n",
        "print(\"c is {}  \\n m is {}  \\n Yp is {}\".format(c,m,Yp))"
      ],
      "metadata": {
        "colab": {
          "base_uri": "https://localhost:8080/"
        },
        "id": "qUwuWCXDtmB6",
        "outputId": "a636cdda-b9eb-45bd-f4bd-b7ffa7ba4375"
      },
      "execution_count": 25,
      "outputs": [
        {
          "output_type": "stream",
          "name": "stdout",
          "text": [
            "c is 6.211658282876165  \n",
            " m is [-0.03533902  0.03361792 -0.04167476  0.04167476]  \n",
            " Yp is [2.77513712 3.70145988 2.17488481 3.97900875 3.80323049 5.76328363\n",
            " 1.96629289 5.22975606 5.14548968 4.77488836 1.81025107 3.3103858\n",
            " 5.03412875 5.65755971 4.08440211 3.49224425 4.6308943  2.59660828\n",
            " 4.89874023 1.96566918 1.32956675 6.2140854  4.50514079 3.47675427\n",
            " 1.91971035 1.79241628 4.34972268 3.93191512 3.3516924  3.53274659\n",
            " 2.53545264 5.58688166 4.13006778 4.19712308 2.50670489 5.62800772\n",
            " 5.23429567 5.02896543 1.79476109 5.44724668 3.99134966 2.27573856\n",
            " 6.20892207 5.79001711 3.90001831 5.34093645 3.44708967 4.01808314\n",
            " 4.40589554 5.50902603 5.80642395 3.11728385 4.26545631 1.5025265\n",
            " 2.35875752 2.62224437 3.82934026 2.77594137 3.53417455 4.60943676\n",
            " 4.06265141 5.31936629 1.81025107 5.78595119 2.46305348 4.93924257\n",
            " 2.85442071 5.90291862 4.42981052 2.92055914 5.83224057 4.57632993\n",
            " 2.06480182 4.5057645  2.9241819  4.19023864 5.14812765 2.50326268\n",
            " 2.6827763  4.57226401 4.55849514 3.72240633 4.0429829  3.9513584\n",
            " 3.39230736 3.87127057 4.18009253 2.33436885 3.82824287 4.88698562\n",
            " 2.35784066 5.95231966 0.85375261 1.94409902 4.17635716 6.01267106\n",
            " 3.73537095 5.7592177  4.14618146 4.54362888]\n"
          ]
        }
      ]
    },
    {
      "cell_type": "code",
      "source": [
        "# Konversi daftar tipe data\n",
        "xlist=list(X_train)\n",
        "ylist=list(Y_train)\n",
        "yplist=list(Yp)"
      ],
      "metadata": {
        "id": "hqb2748qtrsj"
      },
      "execution_count": 16,
      "outputs": []
    },
    {
      "cell_type": "code",
      "source": [
        "mytable=pd.DataFrame({\"input\":xlist,\"out\":ylist})\n",
        "print(mytable)"
      ],
      "metadata": {
        "colab": {
          "base_uri": "https://localhost:8080/"
        },
        "id": "WxatcL8Btv58",
        "outputId": "6ae3fd4b-b453-48fd-dd58-f0d4b5c34df1"
      },
      "execution_count": 17,
      "outputs": [
        {
          "output_type": "stream",
          "name": "stdout",
          "text": [
            "                input  out\n",
            "0     [174, 96, 0, 1]    4\n",
            "1     [189, 87, 0, 1]    2\n",
            "2    [185, 110, 1, 0]    4\n",
            "3    [195, 104, 1, 0]    3\n",
            "4     [149, 61, 0, 1]    3\n",
            "..                ...  ...\n",
            "395   [164, 71, 1, 0]    3\n",
            "396   [187, 96, 0, 1]    3\n",
            "397  [169, 136, 0, 1]    5\n",
            "398   [149, 61, 1, 0]    3\n",
            "399  [163, 137, 0, 1]    5\n",
            "\n",
            "[400 rows x 2 columns]\n"
          ]
        }
      ]
    },
    {
      "cell_type": "code",
      "source": [
        "from sklearn.metrics import mean_squared_error,accuracy_score\n",
        "Error=mean_squared_error(Yp,Y_test)\n",
        "np.sqrt(Error)"
      ],
      "metadata": {
        "colab": {
          "base_uri": "https://localhost:8080/"
        },
        "id": "UquZM3RKt1PI",
        "outputId": "89100de0-53ff-433d-f99f-791bf6670a9c"
      },
      "execution_count": 18,
      "outputs": [
        {
          "output_type": "execute_result",
          "data": {
            "text/plain": [
              "0.5791091027138876"
            ]
          },
          "metadata": {},
          "execution_count": 18
        }
      ]
    },
    {
      "cell_type": "code",
      "source": [
        "import seaborn as sns\n",
        "sns.barplot(x=Y_test,y=Yp,data=df)"
      ],
      "metadata": {
        "colab": {
          "base_uri": "https://localhost:8080/",
          "height": 282
        },
        "id": "ZyguEam0t5tO",
        "outputId": "ba7ba32a-524c-4e34-eab3-162d226e84a7"
      },
      "execution_count": 19,
      "outputs": [
        {
          "output_type": "execute_result",
          "data": {
            "text/plain": [
              "<matplotlib.axes._subplots.AxesSubplot at 0x7efd7e2758d0>"
            ]
          },
          "metadata": {},
          "execution_count": 19
        },
        {
          "output_type": "display_data",
          "data": {
            "image/png": "[encoded data removed]",
            "text/plain": [
              "<Figure size 432x288 with 1 Axes>"
            ]
          },
          "metadata": {
            "needs_background": "light"
          }
        }
      ]
    },
    {
      "cell_type": "code",
      "source": [
        "y_pred_cls=np.zeros_like(Yp)\n",
        "y_pred_cls[Yp>2.5]=1\n",
        "\n",
        "y_test_cls=np.zeros_like(Yp)\n",
        "y_test_cls[Y_test>2.5]=1"
      ],
      "metadata": {
        "id": "DKWVT8IFt_og"
      },
      "execution_count": 20,
      "outputs": []
    },
    {
      "cell_type": "code",
      "source": [
        "#Hasil Akurasi Data\n",
        "\n",
        "print(accuracy_score(y_test_cls,y_pred_cls))"
      ],
      "metadata": {
        "colab": {
          "base_uri": "https://localhost:8080/"
        },
        "id": "6W0IH6eNuDaX",
        "outputId": "1b5d606e-ec5d-4568-ac97-6c5d1310ff75"
      },
      "execution_count": 26,
      "outputs": [
        {
          "output_type": "stream",
          "name": "stdout",
          "text": [
            "0.93\n"
          ]
        }
      ]
    }
  ]
}